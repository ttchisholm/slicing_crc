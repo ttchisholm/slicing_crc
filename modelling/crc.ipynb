{
 "cells": [
  {
   "cell_type": "code",
   "execution_count": 4,
   "metadata": {},
   "outputs": [],
   "source": [
    "import numpy as np\n",
    "\n",
    "np.set_printoptions(formatter={'int':lambda x:hex(int(x))})"
   ]
  },
  {
   "attachments": {},
   "cell_type": "markdown",
   "metadata": {},
   "source": [
    "# Sarwate's algo"
   ]
  },
  {
   "cell_type": "code",
   "execution_count": 78,
   "metadata": {},
   "outputs": [
    {
     "name": "stdout",
     "output_type": "stream",
     "text": [
      "prev_crc, idx, tout, new_crc\n",
      "0xffffffff 255 0x2d02ef8d 0x2dfd1072\n",
      "0x2dfd1072 114 0xbe0b1010 0xbe26ed00\n",
      "0xbe26ed00 0 0x0 0xbe26ed\n",
      "0xbe26ed 237 0xdebb9ec5 0xdebb20e3\n",
      "0xdebb20e3 227 0x3903b3c2 0x39dd08e2\n",
      "0x39dd08e2 226 0x4e048354 0x4e3d5e5c\n",
      "0x4e3d5e5c 92 0x62dd1ddf 0x62932081\n",
      "0x62932081 129 0x9abfb3b6 0x9add2096\n",
      "0x9add2096 150 0x196c3671 0x19f6eb51\n",
      "0x19f6eb51 81 0x1c6c6162 0x1c759789\n",
      "0x1c759789 137 0x94643b84 0x94784e13\n",
      "0x94784e13 19 0x84be41de 0x842a3990\n",
      "0x842a3990 144 0xf00f9344 0xf08bb97d\n",
      "0xf08bb97d 125 0x2eb40d81 0x2e448638\n",
      "0x2e448638 56 0x2802b89e 0x282cfc18\n",
      "0x282cfc18 24 0x136c9856 0x1344b4aa\n",
      "CRC= 0xecbb4b55\n"
     ]
    }
   ],
   "source": [
    "# sawates\n",
    "#data = list(range(16)) # data[0] is first\n",
    "data = [0 for i in range(16)] # data[0] is first\n",
    "\n",
    "table = np.zeros(256, dtype=int)\n",
    "poly = 0xedb88320 # this is the bit reversed polynomial 0x4C11DB7\n",
    "for n in range(256):\n",
    "    c = n\n",
    "    for k in range(8):\n",
    "        c = poly ^ (c >> 1) if c & 1 else c >> 1\n",
    "    table[n] = c\n",
    "\n",
    "\n",
    "# do the crc\n",
    "crc = 0xFFFFFFFF # setting the initial crc to 0xFFFFFFFF is equivilent to complimenting first 32 bits,\n",
    "\n",
    "print('prev_crc, idx, tout, new_crc')                 \n",
    "for x in data:\n",
    "    print(hex(crc), (crc ^ x) & 0xFF, hex(table[(crc ^ x) & 0xFF]), hex((crc >> 8) ^ table[(crc ^ x) & 0xFF]))\n",
    "    crc = (crc >> 8) ^ table[(crc ^ x) & 0xFF]\n",
    "    \n",
    "\n",
    "print('CRC=', hex(crc ^ 0xFFFFFFFF))"
   ]
  },
  {
   "attachments": {},
   "cell_type": "markdown",
   "metadata": {},
   "source": [
    "# Slicing CRC algorithm"
   ]
  },
  {
   "attachments": {},
   "cell_type": "markdown",
   "metadata": {},
   "source": [
    "References:\n",
    "- https://web.archive.org/web/20120722193753/http://download.intel.com:80/technology/comms/perfnet/download/slicing-by-8.pdf\n",
    "- https://create.stephan-brumme.com/crc32/#slicing-by-8-overview  "
   ]
  },
  {
   "cell_type": "code",
   "execution_count": 29,
   "metadata": {},
   "outputs": [],
   "source": [
    "# generate table of all 8-bit input combinations\n",
    "\n",
    "poly = 0x04C11DB7\n",
    "bit_reverse_poly = True\n",
    "\n",
    "poly = int('{:032b}'.format(poly)[::-1], 2) if bit_reverse_poly else poly\n",
    "\n",
    "def byte_lookup():\n",
    "    table = []\n",
    "    for d in range(256):\n",
    "        t = d\n",
    "        for i in range(8):\n",
    "            t = (t >> 1) ^ ((t & 0x01) * poly)\n",
    "        table.append(t)\n",
    "    return table"
   ]
  },
  {
   "cell_type": "code",
   "execution_count": 79,
   "metadata": {},
   "outputs": [
    {
     "data": {
      "text/plain": [
       "array([[0x0, 0x77073096, 0xee0e612c, ..., 0xc30c8ea1, 0x5a05df1b,\n",
       "        0x2d02ef8d],\n",
       "       [0x0, 0x191b3141, 0x32366282, ..., 0xa1129ff0, 0x8a3fcc33,\n",
       "        0x9324fd72],\n",
       "       [0x0, 0x1c26a37, 0x384d46e, ..., 0xbd1ce083, 0xbf5a5eda,\n",
       "        0xbe9834ed],\n",
       "       ...,\n",
       "       [0x0, 0xcb5cd3a5, 0x4dc8a10b, ..., 0xa90c0ac7, 0x2f987869,\n",
       "        0xe4c4abcc],\n",
       "       [0x0, 0xa6770bb4, 0x979f1129, ..., 0x5a95b19, 0x34414184,\n",
       "        0x92364a30],\n",
       "       [0x0, 0xccaa009e, 0x4225077d, ..., 0x646e019b, 0xeae10678,\n",
       "        0x264b06e6]])"
      ]
     },
     "execution_count": 79,
     "metadata": {},
     "output_type": "execute_result"
    }
   ],
   "source": [
    "crcTables = np.zeros((8, 256), dtype=int)\n",
    "crcTables[0] = byte_lookup()\n",
    "\n",
    "for j in range(1, 8):\n",
    "    for i in range(256):\n",
    "        crcTables[j][i] = (crcTables[j-1][i] >> 8) ^ crcTables[0][crcTables[j-1][i] & 0xFF]\n",
    "\n",
    "with open('../hdl/crc_tables.mem', 'w') as f:\n",
    "    f.writelines([l + '\\n' for l in [' '.join([f'{ti:08x}' for ti in t]) for t in crcTables]])\n",
    "\n",
    "crcTables"
   ]
  },
  {
   "cell_type": "code",
   "execution_count": 31,
   "metadata": {},
   "outputs": [],
   "source": [
    "def chunker(seq, size):\n",
    "        return (seq[pos:pos + size] for pos in range(0, len(seq), size))\n",
    "\n",
    "slice_byte = lambda x, i : (x >> (8 * i) ) & 0xFF # Returns ith least sig byte"
   ]
  },
  {
   "cell_type": "code",
   "execution_count": 52,
   "metadata": {},
   "outputs": [
    {
     "name": "stdout",
     "output_type": "stream",
     "text": [
      "[0xff 0xfe 0xfd 0xfc 0x4 0x5 0x6 0x7]\n",
      "[0x264b06e6 0x34414184 0xa90c0ac7 0x8dc4bd5c 0x8f629757 0x6cbc2eb\n",
      " 0x565aa786 0x9e6495a3]\n",
      "0x77559760\n",
      "[0x68 0x9e 0x5f 0x7c 0xc 0xd 0xe 0xf]\n",
      "[0x30ebb0e 0xbff70d61 0xfdd8ba22 0x3c220dce 0x4ad6bfb8 0x8d89353\n",
      " 0x9e832d8e 0x90bf1d91]\n",
      "0x31311d77\n",
      "CRC= 0xcecee288\n"
     ]
    }
   ],
   "source": [
    "data = list(range(16))\n",
    "crc = 0 ^ 0xFFFFFFFF\n",
    "\n",
    "for id in chunker(data, 8):\n",
    "\n",
    "    # data[0] is first (low) byte\n",
    "    # xor the first 4 (lowest 4) bytes with the prev crc\n",
    "    lookup = np.array([d  ^ slice_byte(crc, i) if i < 4 else d for i, d in enumerate(id)])\n",
    "\n",
    "    print(lookup)\n",
    "\n",
    "    # use these values to index the lookup tables\n",
    "    tout = np.array([crcTables[::-1][i][l] for i, l in enumerate(lookup)]) # not table[0] is for last (highest) byte\n",
    "\n",
    "    print(tout)\n",
    "\n",
    "    xor_tout = 0\n",
    "\n",
    "    for t in tout:\n",
    "        xor_tout = xor_tout ^ t\n",
    "    \n",
    "    crc = xor_tout\n",
    "    print(hex(xor_tout))\n",
    "\n",
    "print('CRC=', hex(xor_tout ^ 0xFFFFFFFF))"
   ]
  },
  {
   "attachments": {},
   "cell_type": "markdown",
   "metadata": {},
   "source": [
    "# Reduced lookup table method"
   ]
  },
  {
   "attachments": {},
   "cell_type": "markdown",
   "metadata": {},
   "source": [
    "Algo from https://www.semanticscholar.org/paper/Design-of-high-speed-CRC-algorithm-for-ethernet-on-Bajarangbali-Anand/43806dc970b0c36ecc7a2912eecbc0efaf119a90#related-papers\n",
    "\n",
    "Using method described in http://repository.sustech.edu:8080/bitstream/handle/123456789/22823/Design%20of%20an%20Efficient%20...%20.pdf?sequence=1  pg 20\n",
    "\n",
    "Reduced table lookup"
   ]
  },
  {
   "cell_type": "code",
   "execution_count": 89,
   "metadata": {},
   "outputs": [],
   "source": [
    "lut1 = [ 0xB8BC6765, 0xAA09C88B, 0x8F629757, 0xC5B428EF, 0x5019579F, 0xA032AF3E, 0x9B14583D, 0xED59B63B, 0x1C26A37, 0x384D46E, 0x709A8DC, 0xE1351B8, 0x1C26A370, 0x384D46E0, 0x709A8DC0, 0xE1351B80, 0x191B3141, 0x32366282, 0x646CC504, 0xC8D98A08, 0x4AC21251, 0x958424A2, 0xF0794F05, 0x3B83984B, 0x77073096, 0xEE0E612C, 0x76DC419, 0xEDB8832, 0x1DB71064, 0x3B6E20C8, 0x76DC4190, 0xEDB88320, \n",
    "]\n",
    "\n",
    "lut2 = [ 0xCCAA009E, 0x4225077D, 0x844A0EFA, 0xD3E51BB5, 0x7CBB312B, 0xF9766256, 0x299DC2ED, 0x533B85DA, 0xA6770BB4, 0x979F1129, 0xF44F2413, 0x33EF4E67, 0x67DE9CCE, 0xCFBD399C, 0x440B7579, 0x8816EAF2, 0xCB5CD3A5, 0x4DC8A10B, 0x9B914216, 0xEC53826D, 0x3D6029B, 0x7AC0536, 0xF580A6C, 0x1EB014D8, 0x3D6029B0, 0x7AC05360, 0xF580A6C0, 0x30704BC1, 0x60E09782, 0xC1C12F04, 0x58F35849, 0xB1E6B092, \n",
    "]\n",
    "\n",
    "lut3 = [ 0x9BA54C6F, 0xEC3B9E9F, 0x3063B7F, 0x60C76FE, 0xC18EDFC, 0x1831DBF8, 0x3063B7F0, 0x60C76FE0, 0xC18EDFC0, 0x586CB9C1, 0xB0D97382, 0xBAC3E145, 0xAEF6C4CB, 0x869C8FD7, 0xD64819EF, 0x77E1359F, 0xEFC26B3E, 0x4F5D03D, 0x9EBA07A, 0x13D740F4, 0x27AE81E8, 0x4F5D03D0, 0x9EBA07A0, 0xE6050901, 0x177B1443, 0x2EF62886, 0x5DEC510C, 0xBBD8A218, 0xACC04271, 0x82F182A3, 0xDE920307, 0x6655004F,\n",
    "]\n",
    "\n",
    "lut4 = [ 0xAE689191, 0x87A02563, 0xD4314C87, 0x73139F4F, 0xE6273E9E, 0x173F7B7D, 0x2E7EF6FA, 0x5CFDEDF4, 0xB9FBDBE8, 0xA886B191, 0x8A7C6563, 0xCF89CC87, 0x44629F4F, 0x88C53E9E, 0xCAFB7B7D, 0x4E87F0BB, 0x9D0FE176, 0xE16EC4AD, 0x19AC8F1B, 0x33591E36, 0x66B23C6C, 0xCD6478D8, 0x41B9F7F1, 0x8373EFE2, 0xDD96D985, 0x605CB54B, 0xC0B96A96, 0x5A03D36D, 0xB407A6DA, 0xB37E4BF5, 0xBD8D91AB, 0xA06A2517, \n",
    "]\n",
    "\n",
    "luts = np.array([lut1, lut2, lut3, lut4])"
   ]
  },
  {
   "cell_type": "code",
   "execution_count": 90,
   "metadata": {},
   "outputs": [
    {
     "name": "stdout",
     "output_type": "stream",
     "text": [
      "0 0 00000000 False 00000000\n",
      "0 1 00000000 False 00000000\n",
      "0 2 00000000 False 00000000\n",
      "0 3 ffffffff True ae689191\n",
      "1 0 00000000 False ae689191\n",
      "1 1 00000000 False ae689191\n",
      "1 2 00000000 False ae689191\n",
      "1 3 ffffffff True 29c8b4f2\n",
      "2 0 00000000 False 29c8b4f2\n",
      "2 1 00000000 False 29c8b4f2\n",
      "2 2 00000000 False 29c8b4f2\n",
      "2 3 ffffffff True fdf9f875\n",
      "3 0 00000000 False fdf9f875\n",
      "3 1 00000000 False fdf9f875\n",
      "3 2 00000000 False fdf9f875\n",
      "3 3 ffffffff True 8eea673a\n",
      "4 0 00000000 False 8eea673a\n",
      "4 1 00000000 False 8eea673a\n",
      "4 2 00000000 False 8eea673a\n",
      "4 3 ffffffff True 68cd59a4\n",
      "5 0 00000000 False 68cd59a4\n",
      "5 1 00000000 False 68cd59a4\n",
      "5 2 00000000 False 68cd59a4\n",
      "5 3 ffffffff True 7ff222d9\n",
      "6 0 00000000 False 7ff222d9\n",
      "6 1 00000000 False 7ff222d9\n",
      "6 2 00000000 False 7ff222d9\n",
      "6 3 ffffffff True 518cd423\n",
      "7 0 00000000 False 518cd423\n",
      "7 1 00000000 False 518cd423\n",
      "7 2 00000000 False 518cd423\n",
      "7 3 ffffffff True 0d7139d7\n",
      "8 0 00000000 False 0d7139d7\n",
      "8 1 00000000 False 0d7139d7\n",
      "8 2 00000000 False 0d7139d7\n",
      "8 3 ffffffff True b48ae23f\n",
      "9 0 00000000 False b48ae23f\n",
      "9 1 00000000 False b48ae23f\n",
      "9 2 00000000 False b48ae23f\n",
      "9 3 ffffffff True 1c0c53ae\n",
      "10 0 00000000 False 1c0c53ae\n",
      "10 1 00000000 False 1c0c53ae\n",
      "10 2 00000000 False 1c0c53ae\n",
      "10 3 ffffffff True 967036cd\n",
      "11 0 00000000 False 967036cd\n",
      "11 1 00000000 False 967036cd\n",
      "11 2 00000000 False 967036cd\n",
      "11 3 ffffffff True 59f9fa4a\n",
      "12 0 00000000 False 59f9fa4a\n",
      "12 1 00000000 False 59f9fa4a\n",
      "12 2 00000000 False 59f9fa4a\n",
      "12 3 ffffffff True 1d9b6505\n",
      "13 0 00000000 False 1d9b6505\n",
      "13 1 00000000 False 1d9b6505\n",
      "13 2 00000000 False 1d9b6505\n",
      "13 3 ffffffff True 955e5b9b\n",
      "14 0 00000000 False 955e5b9b\n",
      "14 1 00000000 False 955e5b9b\n",
      "14 2 00000000 False 955e5b9b\n",
      "14 3 ffffffff True 5fa520e6\n",
      "15 0 00000000 False 5fa520e6\n",
      "15 1 00000000 False 5fa520e6\n",
      "15 2 00000000 False 5fa520e6\n",
      "15 3 ffffffff True 1122d05d\n",
      "16 0 00000000 False 1122d05d\n",
      "16 1 00000000 False 1122d05d\n",
      "16 2 00000000 False 1122d05d\n",
      "16 3 ffffffff True 8c2d312b\n",
      "17 0 00000000 False 8c2d312b\n",
      "17 1 00000000 False 8c2d312b\n",
      "17 2 00000000 False 8c2d312b\n",
      "17 3 ffffffff True 6d43f586\n",
      "18 0 00000000 False 6d43f586\n",
      "18 1 00000000 False 6d43f586\n",
      "18 2 00000000 False 6d43f586\n",
      "18 3 ffffffff True 74ef7a9d\n",
      "19 0 00000000 False 74ef7a9d\n",
      "19 1 00000000 False 74ef7a9d\n",
      "19 2 00000000 False 74ef7a9d\n",
      "19 3 ffffffff True 47b664ab\n",
      "20 0 00000000 False 47b664ab\n",
      "20 1 00000000 False 47b664ab\n",
      "20 2 00000000 False 47b664ab\n",
      "20 3 ffffffff True 210458c7\n",
      "21 0 00000000 False 210458c7\n",
      "21 1 00000000 False 210458c7\n",
      "21 2 00000000 False 210458c7\n",
      "21 3 ffffffff True ec60201f\n",
      "22 0 00000000 False ec60201f\n",
      "22 1 00000000 False ec60201f\n",
      "22 2 00000000 False ec60201f\n",
      "22 3 ffffffff True add9d7ee\n",
      "23 0 00000000 False add9d7ee\n",
      "23 1 00000000 False add9d7ee\n",
      "23 2 00000000 False add9d7ee\n",
      "23 3 ffffffff True 2eaa380c\n",
      "24 0 00000000 False 2eaa380c\n",
      "24 1 00000000 False 2eaa380c\n",
      "24 2 00000000 False 2eaa380c\n",
      "24 3 ffffffff True f33ce189\n",
      "25 0 00000000 False f33ce189\n",
      "25 1 00000000 False f33ce189\n",
      "25 2 00000000 False f33ce189\n",
      "25 3 ffffffff True 936054c2\n",
      "26 0 00000000 False 936054c2\n",
      "26 1 00000000 False 936054c2\n",
      "26 2 00000000 False 936054c2\n",
      "26 3 ffffffff True 53d93e54\n",
      "27 0 00000000 False 53d93e54\n",
      "27 1 00000000 False 53d93e54\n",
      "27 2 00000000 False 53d93e54\n",
      "27 3 ffffffff True 09daed39\n",
      "28 0 00000000 False 09daed39\n",
      "28 1 00000000 False 09daed39\n",
      "28 2 00000000 False 09daed39\n",
      "28 3 ffffffff True bddd4be3\n",
      "29 0 00000000 False bddd4be3\n",
      "29 1 00000000 False bddd4be3\n",
      "29 2 00000000 False bddd4be3\n",
      "29 3 ffffffff True 0ea30016\n",
      "30 0 00000000 False 0ea30016\n",
      "30 1 00000000 False 0ea30016\n",
      "30 2 00000000 False 0ea30016\n",
      "30 3 ffffffff True b32e91bd\n",
      "31 0 00000000 False b32e91bd\n",
      "31 1 00000000 False b32e91bd\n",
      "31 2 00000000 False b32e91bd\n",
      "31 3 ffffffff True 1344b4aa\n",
      "Final CRC = ecbb4b55\n"
     ]
    }
   ],
   "source": [
    "crc = 0\n",
    "data = [0, 0, 0, 0] # 4 x 32 bits\n",
    "t = np.zeros(4, dtype=int)\n",
    "t[0] = data[0]\n",
    "t[1] = data[1]\n",
    "t[2] = data[2]\n",
    "t[3] = data[3] ^ (crc ^ 0xFFFFFFFF)\n",
    "\n",
    "\n",
    "for i in range(32):\n",
    "    for j in range(4):\n",
    "        lookup = (t[j] >> i) & 0x01 == 1\n",
    "        if lookup:\n",
    "            crc = crc ^ luts[j][i]\n",
    "\n",
    "        print(f'{i} {j} {t[j]:08x} {lookup} {crc:08x}')\n",
    "        \n",
    "crc = crc ^ 0xFFFFFFFF\n",
    "print(f\"Final CRC = {crc:08x}\")"
   ]
  },
  {
   "attachments": {},
   "cell_type": "markdown",
   "metadata": {},
   "source": [
    "Reduced table lookup - one xor per non-zero bit. For 64 bit input - 32 xors on crit path, not ideal. ~0.2ns per LUT.\n",
    "\n",
    "64 bit version:"
   ]
  },
  {
   "cell_type": "code",
   "execution_count": 117,
   "metadata": {},
   "outputs": [
    {
     "data": {
      "text/plain": [
       "'0x0'"
      ]
     },
     "execution_count": 117,
     "metadata": {},
     "output_type": "execute_result"
    }
   ],
   "source": [
    "crc = 0\n",
    "for j in range(2):\n",
    "    for i in range(32):\n",
    "        crc = crc ^ luts[2][i]\n",
    "\n",
    "hex(crc)"
   ]
  },
  {
   "cell_type": "code",
   "execution_count": 120,
   "metadata": {},
   "outputs": [
    {
     "name": "stdout",
     "output_type": "stream",
     "text": [
      "0 0 00000000 False 00000000\n",
      "1 0 00000000 False 00000000\n",
      "2 0 00000000 False 00000000\n",
      "3 0 00000000 False 00000000\n",
      "4 0 00000000 False 00000000\n",
      "5 0 00000000 False 00000000\n",
      "6 0 00000000 False 00000000\n",
      "7 0 00000000 False 00000000\n",
      "8 0 00000000 False 00000000\n",
      "9 0 00000000 False 00000000\n",
      "10 0 00000000 False 00000000\n",
      "11 0 00000000 False 00000000\n",
      "12 0 00000000 False 00000000\n",
      "13 0 00000000 False 00000000\n",
      "14 0 00000000 False 00000000\n",
      "15 0 00000000 False 00000000\n",
      "16 0 00000000 False 00000000\n",
      "17 0 00000000 False 00000000\n",
      "18 0 00000000 False 00000000\n",
      "19 0 00000000 False 00000000\n",
      "20 0 00000000 False 00000000\n",
      "21 0 00000000 False 00000000\n",
      "22 0 00000000 False 00000000\n",
      "23 0 00000000 False 00000000\n",
      "24 0 00000000 False 00000000\n",
      "25 0 00000000 False 00000000\n",
      "26 0 00000000 False 00000000\n",
      "27 0 00000000 False 00000000\n",
      "28 0 00000000 False 00000000\n",
      "29 0 00000000 False 00000000\n",
      "30 0 00000000 False 00000000\n",
      "31 0 00000000 False 00000000\n",
      "0 1 ffffffff True ccaa009e\n",
      "1 1 ffffffff True 8e8f07e3\n",
      "2 1 ffffffff True 0ac50919\n",
      "3 1 ffffffff True d92012ac\n",
      "4 1 ffffffff True a59b2387\n",
      "5 1 ffffffff True 5ced41d1\n",
      "6 1 ffffffff True 7570833c\n",
      "7 1 ffffffff True 264b06e6\n",
      "8 1 ffffffff True 803c0d52\n",
      "9 1 ffffffff True 17a31c7b\n",
      "10 1 ffffffff True e3ec3868\n",
      "11 1 ffffffff True d003760f\n",
      "12 1 ffffffff True b7ddeac1\n",
      "13 1 ffffffff True 7860d35d\n",
      "14 1 ffffffff True 3c6ba624\n",
      "15 1 ffffffff True b47d4cd6\n",
      "16 1 ffffffff True 7f219f73\n",
      "17 1 ffffffff True 32e93e78\n",
      "18 1 ffffffff True a9787c6e\n",
      "19 1 ffffffff True 452bfe03\n",
      "20 1 ffffffff True 46fdfc98\n",
      "21 1 ffffffff True 4151f9ae\n",
      "22 1 ffffffff True 4e09f3c2\n",
      "23 1 ffffffff True 50b9e71a\n",
      "24 1 ffffffff True 6dd9ceaa\n",
      "25 1 ffffffff True 17199dca\n",
      "26 1 ffffffff True e2993b0a\n",
      "27 1 ffffffff True d2e970cb\n",
      "28 1 ffffffff True b209e749\n",
      "29 1 ffffffff True 73c8c84d\n",
      "30 1 ffffffff True 2b3b9004\n",
      "31 1 ffffffff True 9add2096\n",
      "Final CRC = 6522df69\n"
     ]
    }
   ],
   "source": [
    "crc = 0\n",
    "data = [0, 0] # 2 x 32 bits\n",
    "t = np.zeros(4, dtype=int)\n",
    "t[0] = data[0]\n",
    "t[1] = data[1] ^ (crc ^ 0xFFFFFFFF)\n",
    "\n",
    "for j in range(2):\n",
    "    for i in range(32):\n",
    "    \n",
    "        lookup = (t[j] >> i) & 0x01 == 1\n",
    "        if lookup:\n",
    "            crc = crc ^ luts[j][i]\n",
    "\n",
    "        print(f'{i} {j} {t[j]:08x} {lookup} {crc:08x}')\n",
    "            \n",
    "    \n",
    "crc = crc ^ 0xFFFFFFFF\n",
    "print(f\"Final CRC = {crc:08x}\") # for 64'h0 should be = 6522df69"
   ]
  },
  {
   "cell_type": "code",
   "execution_count": null,
   "metadata": {},
   "outputs": [],
   "source": []
  }
 ],
 "metadata": {
  "kernelspec": {
   "display_name": "eth",
   "language": "python",
   "name": "python3"
  },
  "language_info": {
   "codemirror_mode": {
    "name": "ipython",
    "version": 3
   },
   "file_extension": ".py",
   "mimetype": "text/x-python",
   "name": "python",
   "nbconvert_exporter": "python",
   "pygments_lexer": "ipython3",
   "version": "3.8.10 (default, Nov 14 2022, 12:59:47) \n[GCC 9.4.0]"
  },
  "orig_nbformat": 4,
  "vscode": {
   "interpreter": {
    "hash": "dc5dd63431280207d4ff60f2269a5f855ba5a9f019cb7fd973da82d3f2da00ec"
   }
  }
 },
 "nbformat": 4,
 "nbformat_minor": 2
}
